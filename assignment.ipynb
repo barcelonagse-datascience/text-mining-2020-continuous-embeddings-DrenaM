{
 "cells": [
  {
   "cell_type": "markdown",
   "metadata": {
    "colab_type": "text",
    "id": "j6u9oOMkVLNR"
   },
   "source": [
    "# Assignment 3: Word2Vec\n",
    "\n",
    "In this assignment, we will see how we can use Word2Vec (or any similar word embedding) to use information from unlabelled data to help us classify better!\n",
    "\n",
    "You will be using the sentiment data from last week, either the yelps or movies, whichever you wish. \n",
    "\n",
    "Your goal will be to simulate the following situation: you have a **small** set of labelled data and a large set of unlabelled data. Show how the two follow 2 techniques compare as the amount of labelled data increases. You should train them on the small labelled subset and test their performance on the rest of the data. \n",
    "\n",
    "In other words, train on 1k, test on 99k. Then train on 2k, test on 98k. Then train on 4k, test on 96k. Etc.\n",
    "\n",
    "1. Logistic regression trained on labelled data, documents represented as term-frequency matrix of your choice. You can learn the vocabulary from the entire dataset or only the labelled data.\n",
    "\n",
    "2. Logistic regression trained on the labelled data, documents represented as word2vec vectors where you train word2vec using the entire dataset. Play around with different settings of word2vec (training window size, K-negative, skip-gram vs BOW, training windows, etc.). Note: we didn't go over the options in detail in class, so you will need to read about them a bit!\n",
    "\n",
    "You can read about the gensime word2vec implementation [here](https://radimrehurek.com/gensim/models/word2vec.html)."
   ]
  },
  {
   "cell_type": "code",
   "execution_count": 1,
   "metadata": {
    "colab": {
     "base_uri": "https://localhost:8080/",
     "height": 85
    },
    "colab_type": "code",
    "executionInfo": {
     "elapsed": 1740,
     "status": "ok",
     "timestamp": 1589578937313,
     "user": {
      "displayName": "Drena Miftari",
      "photoUrl": "https://lh3.googleusercontent.com/a-/AOh14GhZwNU0SJ3Gnng3eniLN_XlKL2MSbILioT0SWKI=s64",
      "userId": "01233947680707602973"
     },
     "user_tz": -120
    },
    "id": "iWBkE7pBMZoR",
    "outputId": "330ef7fe-3857-4935-e5c3-3575c62df32f"
   },
   "outputs": [
    {
     "name": "stdout",
     "output_type": "stream",
     "text": [
      "[nltk_data] Downloading package stopwords to /root/nltk_data...\n",
      "[nltk_data]   Package stopwords is already up-to-date!\n",
      "[nltk_data] Downloading package wordnet to /root/nltk_data...\n",
      "[nltk_data]   Package wordnet is already up-to-date!\n"
     ]
    }
   ],
   "source": [
    "import numpy as np\n",
    "import pandas as pd\n",
    "import re\n",
    "import spacy\n",
    "import cython\n",
    "from sklearn.linear_model import LogisticRegression\n",
    "from sklearn.feature_extraction.text import TfidfVectorizer\n",
    "from gensim.models import Word2Vec\n",
    "import nltk\n",
    "nltk.download('stopwords')\n",
    "nltk.download('wordnet')\n",
    "from nltk.corpus import stopwords \n",
    "from nltk.stem import WordNetLemmatizer \n",
    "from nltk.stem.snowball import SnowballStemmer\n",
    "import matplotlib.pyplot as plt\n",
    "plt.style.use('seaborn-bright')"
   ]
  },
  {
   "cell_type": "code",
   "execution_count": 0,
   "metadata": {
    "colab": {},
    "colab_type": "code",
    "id": "s6qpu8N7M0Vo"
   },
   "outputs": [],
   "source": [
    "movies = pd.read_csv('movies.csv')\n",
    "movies = movies[movies['positive'] != 'positive']\n",
    "movies['positive'] = movies['positive'].replace({'True': 1, 'False': 0})"
   ]
  },
  {
   "cell_type": "code",
   "execution_count": 0,
   "metadata": {
    "colab": {},
    "colab_type": "code",
    "id": "cQp6f_KwM0Sy"
   },
   "outputs": [],
   "source": [
    "def data_prep(docs):\n",
    "    stop_words = set(stopwords.words('english'))\n",
    "    lemmatizer = WordNetLemmatizer()\n",
    "    documents = []\n",
    "    # Prepare data\n",
    "    for d in docs:\n",
    "        document = d.lower()\n",
    "        document = re.sub(\"[.,?]\",\"\", document)\n",
    "        document = re.sub('\"', \"\", document)\n",
    "        document = document.split()\n",
    "        document = [word for word in document if word not in stop_words]\n",
    "        document = [lemmatizer.lemmatize(word) for word in document]\n",
    "        documents.append(document)\n",
    "    return(documents)\n",
    "\n",
    "def technique_1(train_percentage):\n",
    "    \n",
    "    vectorizer = TfidfVectorizer(stop_words='english',\n",
    "                                 use_idf=False, norm=False)\n",
    "    \n",
    "    X = vectorizer.fit_transform(list(movies.text[0:10000]))\n",
    "    \n",
    "    X = np.asarray(X.todense())\n",
    "    Y = np.array(movies['positive'][0:10000])\n",
    "    \n",
    "    train_size = int(len(X) * train_percentage)\n",
    "    Xtrain = X[0:train_size]\n",
    "    Ytrain = Y[0:train_size]\n",
    "    Xtest = X[train_size:]\n",
    "    Ytest = Y[train_size:]\n",
    "    \n",
    "    clf = LogisticRegression(solver='newton-cg')\n",
    "    clf.fit(Xtrain,Ytrain)\n",
    "    preds = clf.predict(Xtest)\n",
    "    err = abs((np.sum(Ytest - preds))/len(Ytest))\n",
    "    \n",
    "    return err\n",
    "\n",
    "def technique_2(train_percentage):\n",
    "\n",
    "    model = Word2Vec(X_preprocess, size=100, min_count=2, workers=4)\n",
    "    reviews_wvs = []\n",
    "    for review in X_preprocess:\n",
    "        review_wv = []\n",
    "        for word in review:\n",
    "            try:\n",
    "                wv = model.wv[word]\n",
    "                review_wv.append(wv)\n",
    "            except:\n",
    "                \"word 'word' not in vocabulary\"\n",
    "        reviews_wvs.append(np.array(review_wv))\n",
    "    reviews_wvs = np.array(reviews_wvs)\n",
    "  \n",
    "    final_wvs = []\n",
    "    for wvs in reviews_wvs:\n",
    "        wvs = np.sum(wvs, axis=0)/np.linalg.norm(wvs)\n",
    "        final_wvs.append(wvs)\n",
    "    final_wvs = np.array(final_wvs)\n",
    "  \n",
    "    train_size = int(len(final_wvs) * train_percentage)\n",
    "    Xtrain = final_wvs[0:train_size]\n",
    "    Ytrain = Y[0:train_size]\n",
    "    Xtest = final_wvs[train_size:]\n",
    "    Ytest = Y[train_size:]\n",
    "  \n",
    "    clf = LogisticRegression(solver='newton-cg')\n",
    "    clf.fit(Xtrain, Ytrain)\n",
    "    preds = clf.predict(Xtest)\n",
    "    err = abs((np.sum(Ytest - preds))/len(Ytest))\n",
    "  \n",
    "    return err\n",
    "\n",
    "def plot_performance(train_splits, technique, xlabel, ylabel, title):\n",
    "    \n",
    "    performance_list = []\n",
    "    for i in train_splits:\n",
    "        performance = technique(train_percentage = i)\n",
    "        performance_list.append(performance)\n",
    "    \n",
    "    plt.figure(figsize=(10, 5), linewidth=5.0)\n",
    "    plt.rcParams['axes.linewidth'] = 0.2\n",
    "    \n",
    "    ax = plt.plot(train_splits, performance_list, linewidth=2.5)\n",
    "    ax = plt.xlabel(xlabel)\n",
    "    ax = plt.ylabel(ylabel)\n",
    "    ax = plt.title(title)\n",
    "    \n",
    "    return ax"
   ]
  },
  {
   "cell_type": "code",
   "execution_count": 0,
   "metadata": {
    "colab": {},
    "colab_type": "code",
    "id": "vSb8Tg8FNYBX"
   },
   "outputs": [],
   "source": [
    "X = movies['text'][0:10000]\n",
    "Y = movies['positive'][0:10000]\n",
    "X_preprocess = data_prep(X)\n",
    "\n",
    "train_splits = [0.1, 0.3, 0.5, 0.7, 0.9]"
   ]
  },
  {
   "cell_type": "code",
   "execution_count": 5,
   "metadata": {
    "colab": {
     "base_uri": "https://localhost:8080/",
     "height": 367
    },
    "colab_type": "code",
    "executionInfo": {
     "elapsed": 474063,
     "status": "ok",
     "timestamp": 1589579409667,
     "user": {
      "displayName": "Drena Miftari",
      "photoUrl": "https://lh3.googleusercontent.com/a-/AOh14GhZwNU0SJ3Gnng3eniLN_XlKL2MSbILioT0SWKI=s64",
      "userId": "01233947680707602973"
     },
     "user_tz": -120
    },
    "id": "IFsDxqjCNX9_",
    "outputId": "cd0b9495-59bb-4eff-fb48-ab6eb83a2b9a"
   },
   "outputs": [
    {
     "data": {
      "text/plain": [
       "Text(0.5, 1.0, 'Term Frequency Technique 1')"
      ]
     },
     "execution_count": 5,
     "metadata": {
      "tags": []
     },
     "output_type": "execute_result"
    },
    {
     "data": {
      "image/png": "[encoded data removed]",
      "text/plain": [
       "<Figure size 720x360 with 1 Axes>"
      ]
     },
     "metadata": {
      "needs_background": "light",
      "tags": []
     },
     "output_type": "display_data"
    }
   ],
   "source": [
    "# technique 1/question 1\n",
    "plot_performance(train_splits, technique_1, \n",
    "         'train splits', 'performance (error)', 'Term Frequency Technique 1')"
   ]
  },
  {
   "cell_type": "code",
   "execution_count": 6,
   "metadata": {
    "colab": {
     "base_uri": "https://localhost:8080/",
     "height": 639
    },
    "colab_type": "code",
    "executionInfo": {
     "elapsed": 584837,
     "status": "ok",
     "timestamp": 1589579520445,
     "user": {
      "displayName": "Drena Miftari",
      "photoUrl": "https://lh3.googleusercontent.com/a-/AOh14GhZwNU0SJ3Gnng3eniLN_XlKL2MSbILioT0SWKI=s64",
      "userId": "01233947680707602973"
     },
     "user_tz": -120
    },
    "id": "whA1ZSG2NX0m",
    "outputId": "50dfead1-a6f0-4064-9538-5b5300b2652d"
   },
   "outputs": [
    {
     "name": "stderr",
     "output_type": "stream",
     "text": [
      "/usr/local/lib/python3.6/dist-packages/scipy/optimize/linesearch.py:314: LineSearchWarning: The line search algorithm did not converge\n",
      "  warn('The line search algorithm did not converge', LineSearchWarning)\n",
      "/usr/local/lib/python3.6/dist-packages/sklearn/utils/optimize.py:204: UserWarning: Line Search failed\n",
      "  warnings.warn('Line Search failed')\n",
      "/usr/local/lib/python3.6/dist-packages/scipy/optimize/linesearch.py:314: LineSearchWarning: The line search algorithm did not converge\n",
      "  warn('The line search algorithm did not converge', LineSearchWarning)\n",
      "/usr/local/lib/python3.6/dist-packages/sklearn/utils/optimize.py:204: UserWarning: Line Search failed\n",
      "  warnings.warn('Line Search failed')\n",
      "/usr/local/lib/python3.6/dist-packages/scipy/optimize/linesearch.py:314: LineSearchWarning: The line search algorithm did not converge\n",
      "  warn('The line search algorithm did not converge', LineSearchWarning)\n",
      "/usr/local/lib/python3.6/dist-packages/sklearn/utils/optimize.py:204: UserWarning: Line Search failed\n",
      "  warnings.warn('Line Search failed')\n",
      "/usr/local/lib/python3.6/dist-packages/scipy/optimize/linesearch.py:314: LineSearchWarning: The line search algorithm did not converge\n",
      "  warn('The line search algorithm did not converge', LineSearchWarning)\n",
      "/usr/local/lib/python3.6/dist-packages/sklearn/utils/optimize.py:204: UserWarning: Line Search failed\n",
      "  warnings.warn('Line Search failed')\n"
     ]
    },
    {
     "data": {
      "text/plain": [
       "Text(0.5, 1.0, 'Term Frequency Technique 2')"
      ]
     },
     "execution_count": 6,
     "metadata": {
      "tags": []
     },
     "output_type": "execute_result"
    },
    {
     "data": {
      "image/png": "[encoded data removed]",
      "text/plain": [
       "<Figure size 720x360 with 1 Axes>"
      ]
     },
     "metadata": {
      "needs_background": "light",
      "tags": []
     },
     "output_type": "display_data"
    }
   ],
   "source": [
    "# technique 2/question 2\n",
    "plot_performance(train_splits, technique_2, \n",
    "         'train splits', 'performance (error)', 'Term Frequency Technique 2')"
   ]
  }
 ],
 "metadata": {
  "colab": {
   "authorship_tag": "ABX9TyPXUlpx2H1B8fFqcUu/7Edy",
   "collapsed_sections": [],
   "name": "assignment.ipynb",
   "provenance": []
  },
  "kernelspec": {
   "display_name": "Python 3",
   "language": "python",
   "name": "python3"
  },
  "language_info": {
   "codemirror_mode": {
    "name": "ipython",
    "version": 3
   },
   "file_extension": ".py",
   "mimetype": "text/x-python",
   "name": "python",
   "nbconvert_exporter": "python",
   "pygments_lexer": "ipython3",
   "version": "3.7.4"
  },
  "toc": {
   "base_numbering": 1,
   "nav_menu": {},
   "number_sections": true,
   "sideBar": true,
   "skip_h1_title": false,
   "title_cell": "Table of Contents",
   "title_sidebar": "Contents",
   "toc_cell": false,
   "toc_position": {},
   "toc_section_display": true,
   "toc_window_display": false
  }
 },
 "nbformat": 4,
 "nbformat_minor": 1
}
